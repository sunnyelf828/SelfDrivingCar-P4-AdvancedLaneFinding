{
 "cells": [
  {
   "cell_type": "code",
   "execution_count": null,
   "metadata": {},
   "outputs": [],
   "source": [
    "SelfDrivingCar-P4-Advanced_LaneLines\n",
    "Udacity CarND Project 4\n",
    "\n",
    "Advanced Lane Finding\n",
    "In this project, your goal is to write a software pipeline to identify the lane boundaries in a video, but the main output or product we want you to create is a detailed writeup of the project.\n",
    "\n",
    "The Project\n",
    "The goals / steps of this project are the following:\n",
    "\n",
    "Compute the camera calibration matrix and distortion coefficients given a set of chessboard images.\n",
    "Apply a distortion correction to raw images.\n",
    "Use color transforms, gradients, etc., to create a thresholded binary image.\n",
    "Apply a perspective transform to rectify binary image (\"birds-eye view\").\n",
    "Detect lane pixels and fit to find the lane boundary.\n",
    "Determine the curvature of the lane and vehicle position with respect to center.\n",
    "Warp the detected lane boundaries back onto the original image.\n",
    "Output visual display of the lane boundaries and numerical estimation of lane curvature and vehicle position."
   ]
  }
 ],
 "metadata": {
  "kernelspec": {
   "display_name": "Python 3",
   "language": "python",
   "name": "python3"
  },
  "language_info": {
   "codemirror_mode": {
    "name": "ipython",
    "version": 3
   },
   "file_extension": ".py",
   "mimetype": "text/x-python",
   "name": "python",
   "nbconvert_exporter": "python",
   "pygments_lexer": "ipython3",
   "version": "3.5.2"
  },
  "widgets": {
   "state": {},
   "version": "1.1.2"
  }
 },
 "nbformat": 4,
 "nbformat_minor": 2
}
